{
 "cells": [
  {
   "cell_type": "code",
   "execution_count": null,
   "metadata": {},
   "outputs": [],
   "source": [
    "import numpy as np\n",
    "import matplotlib.pyplot as plt"
   ]
  },
  {
   "cell_type": "code",
   "execution_count": null,
   "metadata": {},
   "outputs": [],
   "source": [
    "# Matplotlib default configuration\n",
    "plt.rc('figure', figsize=(16,8))\n",
    "plt.rc('font', size=12)\n",
    "plt.rc('lines', linewidth=2)"
   ]
  },
  {
   "cell_type": "markdown",
   "metadata": {},
   "source": [
    "<h1 class=\"text-center\">Trabajos prácticos : Modelo de Ising</h1>\n",
    "\n",
    "<br/>\n",
    "\n",
    "<div class=\"jumbotron text-center\"><b>El propósito de este documento es poner en práctica los algoritmos estocásticos de simulación estudiados en el curso para el ejemplo del modelo de Ising.</b></div>"
   ]
  },
  {
   "cell_type": "markdown",
   "metadata": {},
   "source": [
    "<h1>I. Introducción</h1>\n",
    "\n",
    "Consideramos el **modelo de Ising** sin campo magnético externo en el toro $\\mathcal{T} = (\\mathbb{Z}/L\\mathbb{Z})^2$ de tamaño $L > 0$ y dimensión $2$. En este modelo, cada sitio $x \\in \\mathcal{T}$ tiene un **espín** $s_x \\in \\{+1,-1\\}$. Los sitios interactúan a través del **hamiltoniano**\n",
    "\n",
    "\\begin{equation*}\n",
    "H(s) = -\\frac{1}{2} \\sum_{x \\sim y} s_x s_y\n",
    "\\end{equation*}\n",
    "\n",
    "que define la **energía** de la configuración $s \\in \\mathcal{S} = \\{+1,-1\\}^{\\mathcal{T}}$. Para cualquier $x, y \\in \\mathcal{T}$, la notación $x \\sim y$ indica que los sitios $x$ y $y$ son vecinos.\n",
    "\n",
    "<p class=\"bg-primary\" style=\"padding:1em\"><strong>PREGUNTA I.1.</strong> ¿Los espines tienden a estar alineados o lo contrario?</p>\n",
    "\n",
    "<div class=\"alert alert-warning\"><strong>RESPUESTA I.1.</strong> ESCRIBA SU RESPUESTA AQUÍ</div>\n",
    "\n",
    "El sistema tiende a minimizar su energía en el sentido de la **medida de Gibbs** en $\\mathcal{S}$,\n",
    "\n",
    "\\begin{equation*}\n",
    "\\forall s \\in \\mathcal{S},\\ \\pi(s) = \\frac{1}{Z(T)} \\exp\\left( -\\frac{H(s)}{T} \\right)\n",
    "\\end{equation*}\n",
    "\n",
    "donde $T$ es la **temperatura** del sistema y $Z(T)$ es la **función de partición**,\n",
    "\n",
    "\\begin{equation*}\n",
    "Z = \\sum_{s \\in \\mathcal{S}} e^{-H(s)/T}.\n",
    "\\end{equation*}\n",
    "\n",
    "<p class=\"bg-primary\" style=\"padding:1em\"><strong>PREGUNTA I.2.</strong> Describa cualitativamente el comportamiento de la medida $\\pi$ cuando $T \\to 0$ y $T \\to \\infty$.</p>\n",
    "\n",
    "<div class=\"alert alert-warning\"><strong>RESPUESTA I.2.</strong> ESCRIBA SU RESPUESTA AQUÍ</div>\n",
    "\n",
    "Este modelo simple explica el fenómeno de la magnetización espontánea de ciertos metales como el hierro. La magnetización del sistema puede medirse a través de la variable aleatoria $M$ dada por el valor medio de los espines,\n",
    "\n",
    "\\begin{equation*}\n",
    "M = \\frac{1}{L^2} \\sum_{x \\in \\mathcal{T}} s_x.\n",
    "\\end{equation*}\n",
    "\n",
    "Se dice que el sistema es magnetizado cuando muchos espines son alineados, *i.e.* cuando la **magnetización neta promedio** $\\langle\\vert M \\vert\\rangle$ es grande donde la esperanza de una función $f : \\mathcal{S} \\rightarrow \\mathbb{R}$ se define con respecto a la medida $\\pi$,\n",
    "\n",
    "\\begin{equation*}\n",
    "\\langle f \\rangle = \\sum_{s \\in \\mathcal{S}} f(s) \\pi(s).\n",
    "\\end{equation*}\n",
    "\n",
    "El objeto de lo que sigue es estimar la **temperatura de Curie** más allá de la cual un metal pierde su magnetismo."
   ]
  },
  {
   "cell_type": "markdown",
   "metadata": {},
   "source": [
    "<h1>II. Método directo</h1>\n",
    "\n",
    "Una primera manera de calcular la magnetización neta promedio es hacerlo explícitamente ya que estamos manejando sumas finitas.\n",
    "\n",
    "<p class=\"bg-primary\" style=\"padding:1em\"><strong>PREGUNTA II.1.</strong> Usa la función <code>Z</code> de abajo para calcular el valor de la función de partición. ¿Hasta qué valor de $L$ se puede calcular $Z(T)$? ¿Qué concluir?</p>"
   ]
  },
  {
   "cell_type": "code",
   "execution_count": null,
   "metadata": {},
   "outputs": [],
   "source": [
    "def get_state(i, L):\n",
    "    \"\"\"\n",
    "    Devuelve la configuración asociada con el número entero i entre 0 y 2**(L**2) - 1.\n",
    "    \"\"\"\n",
    "    s = np.zeros((L, L), dtype=int)\n",
    "    for j in range(L**2):\n",
    "        a, b = divmod(j, L)\n",
    "        i, binary = divmod(i, 2)\n",
    "        s[a,b] = 2*binary - 1\n",
    "    return s\n",
    "\n",
    "def H(state):\n",
    "    \"\"\"\n",
    "    Calcula el hamiltoniano del sistema.\n",
    "    \"\"\"\n",
    "    h = 0\n",
    "    L = state.shape[0]\n",
    "    for j in range(L**2):\n",
    "        a, b = divmod(j, L)\n",
    "        h += state[a,b] * (state[(a + 1) % L, b] + state[(a - 1) % L, b] +\n",
    "                           state[a, (b + 1) % L] + state[a, (b - 1) % L])\n",
    "    return -h/2\n",
    "\n",
    "def Z(L, T=1):\n",
    "    \"\"\"\n",
    "    Calcula la función de partición del sistema.\n",
    "    \"\"\"\n",
    "    z = 0\n",
    "    for i in range(2**(L**2)):\n",
    "        state = get_state(i, L)\n",
    "        z += np.exp(-H(state) / T)\n",
    "    return z"
   ]
  },
  {
   "cell_type": "code",
   "execution_count": null,
   "metadata": {},
   "outputs": [],
   "source": [
    "# Escriba su código aquí."
   ]
  },
  {
   "cell_type": "markdown",
   "metadata": {},
   "source": [
    "<div class=\"alert alert-warning\"><strong>RESPUESTA II.1.</strong> ESCRIBA SU RESPUESTA AQUÍ</div>\n",
    "\n",
    "<p class=\"bg-primary\" style=\"padding:1em\"><strong>PREGUNTA II.2.</strong> El código siguiente dibuja la evolución de la función de partición con respecto a la temperatura con $L=3$. Comentar.</p>"
   ]
  },
  {
   "cell_type": "code",
   "execution_count": null,
   "metadata": {},
   "outputs": [],
   "source": [
    "L = 3\n",
    "t_min = 2\n",
    "t_max = 5\n",
    "t = np.arange(t_min, t_max, 0.1)\n",
    "z = np.zeros(len(t))\n",
    "for i in range(len(t)):\n",
    "    z[i] = Z(L, T=t[i])\n",
    "\n",
    "plt.plot(t, z)\n",
    "_ = plt.xlabel('T')"
   ]
  },
  {
   "cell_type": "markdown",
   "metadata": {},
   "source": [
    "<div class=\"alert alert-warning\"><strong>RESPUESTA II.2.</strong> ESCRIBA SU RESPUESTA AQUÍ</div>\n",
    "\n",
    "<p class=\"bg-primary\" style=\"padding:1em\"><strong>PREGUNTA II.3.</strong> Completa el código siguiente para calcular la magnetización promedio $<M>$ y la magnetización neta promedio $<\\vert M \\vert>$. ¿Qué es el valor de la magnetización promedio? Explique este resultado y comente sobre la curva de la magnetización neta promedio.</p>"
   ]
  },
  {
   "cell_type": "code",
   "execution_count": null,
   "metadata": {},
   "outputs": [],
   "source": [
    "def magnetization(L, T=1):\n",
    "    \"\"\"\n",
    "    Calcula la magnetización promedio y la magnetización neta promedio.\n",
    "    \"\"\"\n",
    "    mag = 0\n",
    "    mag_n = 0\n",
    "    z = 0\n",
    "    for i in range(2**(L**2)):\n",
    "        state=get_state(i, L)\n",
    "        z += # TO DO\n",
    "        mag += # TO DO\n",
    "        mag_n += # TO DO\n",
    "    return mag, mag_n"
   ]
  },
  {
   "cell_type": "code",
   "execution_count": null,
   "metadata": {},
   "outputs": [],
   "source": [
    "L = 3\n",
    "t = np.arange(0.5, 15, 0.5)\n",
    "mag = np.zeros(len(t))\n",
    "mag_n = np.zeros(len(t))\n",
    "for i in range(len(t)):\n",
    "    mag[i], mag_n[i] = magnetization(L, T=t[i])\n",
    "\n",
    "plt.plot(t, mag, label='Magnetización')\n",
    "plt.plot(t, mag_n, label='Magnetización neta')\n",
    "plt.legend()\n",
    "plt.xlabel('T')\n",
    "_ = plt.title(\"Magnetización con respecto a la temperatura con L={}\".format(L))"
   ]
  },
  {
   "cell_type": "markdown",
   "metadata": {},
   "source": [
    "<div class=\"alert alert-warning\"><strong>RESPUESTA II.3.</strong> ESCRIBA SU RESPUESTA AQUÍ</div>\n",
    "\n",
    "<p class=\"bg-primary\" style=\"padding:1em\"><strong>PREGUNTA II.4.</strong> Completa el código siguiente para generar una configuración aleatoria según la medida de probabilidad $\\pi$. Dibuje algunas configuraciones para varios valores de temperatura y comente los resultados.</p>"
   ]
  },
  {
   "cell_type": "code",
   "execution_count": null,
   "metadata": {},
   "outputs": [],
   "source": [
    "def sample_pi(L, T=1):\n",
    "    \"\"\"\n",
    "    Devuelve una configuración aleatoria según la medida de Gibbs pi.\n",
    "    \"\"\"\n",
    "    # TO DO\n",
    "    return []\n",
    "\n",
    "L = 4\n",
    "state = sample_pi(L, T=3)\n",
    "plt.imshow(state, cmap=\"binary\")"
   ]
  },
  {
   "cell_type": "markdown",
   "metadata": {},
   "source": [
    "<div class=\"alert alert-warning\"><strong>RESPUESTA II.4.</strong> ESCRIBA SU RESPUESTA AQUÍ</div>"
   ]
  },
  {
   "cell_type": "markdown",
   "metadata": {},
   "source": [
    "<h1>III. Dinámica de Glauber</h1>\n",
    "\n",
    "Para sobrepasar el caso $L = 4$, se debe utilizar otro método. Proponemos utilizar el algoritmo de Metrópolis-Hastings siguiente :\n",
    "1. en cada paso, sortear un sitio $x$ uniformemente en $\\mathcal{T}$,\n",
    "2. si la configuración del sistema es $s$, la configuración $s^{(x)}$ se obtiene invirtiendo el espín $s_x$,\n",
    "\n",
    "\\begin{equation*}\n",
    "\\forall y \\in \\mathcal{T},\\ s^{(x)}_y = \\begin{cases}\n",
    "-s_x & \\text{si}\\ x = y,\\\\\n",
    "s_x & \\text{si no},\n",
    "\\end{cases}\n",
    "\\end{equation*}\n",
    "\n",
    "y movemos de $s$ a $s^{(x)}$ con la probabilidad\n",
    "\n",
    "\\begin{equation*}\n",
    "\\min \\left( 1, \\exp \\left( -\\frac{1}{T} \\left( H(s^{(x)}) - H(s) \\right) \\right) \\right).\n",
    "\\end{equation*}\n",
    "\n",
    "<p class=\"bg-primary\" style=\"padding:1em\"><strong>PREGUNTA III.1.</strong> ¿Qué es la medida de probabilidad invariante para esta cadena de Markov?</p>\n",
    "\n",
    "<div class=\"alert alert-warning\"><strong>RESPUESTA III.1.</strong> ESCRIBA SU RESPUESTA AQUÍ</div>\n",
    "\n",
    "<p class=\"bg-primary\" style=\"padding:1em\"><strong>PREGUNTA III.2.</strong> Mostrar que, para cualquier $s \\in \\mathcal{S}$,\n",
    "\\begin{equation*}\n",
    "H(s^{(x)}) - H(s) = 2 s_x \\sum_{y \\sim x} s_y\n",
    "\\end{equation*}\n",
    "y que\n",
    "\\begin{equation*}\n",
    "M(s^{(x)}) - M(s) = -2 s_x.\n",
    "\\end{equation*}\n",
    "¿Cuál es el intéres de estas fórmulas?</p>\n",
    "\n",
    "<div class=\"alert alert-warning\"><strong>RESPUESTA III.2.</strong> ESCRIBA SU RESPUESTA AQUÍ</div>\n",
    "\n",
    "<p class=\"bg-primary\" style=\"padding:1em\"><strong>PREGUNTA III.3.</strong> Completa el código de la función <code>glauber</code>. Para verificar, use los resultados obtenidos con $L = 3$ para $T = 1$ y $T = 6$. ¿Qué es la justificación teórica para el método de estimación de la magnetización neta promedio?</p>"
   ]
  },
  {
   "cell_type": "code",
   "execution_count": null,
   "metadata": {},
   "outputs": [],
   "source": [
    "def glauber(intial_state, n_step=1, T=1):\n",
    "    \"\"\"\n",
    "    Calcula n_step pasos de la cadena de Markov obtenida con la dinámica de Glauber.\n",
    "    Devuelve la configuración final state y la sucesión m de la magnetización de las\n",
    "    configuraciones visitadas.\n",
    "    \"\"\"\n",
    "    L = initial_state.shape[0]\n",
    "    m = np.zeros(n_step)\n",
    "    state = initial_state\n",
    "    for i in range(n_step):\n",
    "        state = # TO DO\n",
    "        m[i] = # TO DO\n",
    "    return state, m\n",
    "\n",
    "def state_random(L):\n",
    "    \"\"\"\n",
    "    Devuelve una configuración aleatoria.\n",
    "    \"\"\"\n",
    "    return np.random.choice((-1,1), size=(L,L))\n",
    "\n",
    "def state_one(L):\n",
    "    \"\"\"\n",
    "    Devuelve la configuración con todos los espines +1.\n",
    "    \"\"\"\n",
    "    return np.ones((L,L))"
   ]
  },
  {
   "cell_type": "code",
   "execution_count": null,
   "metadata": {},
   "outputs": [],
   "source": [
    "L = 3\n",
    "for t in (1, 6):\n",
    "    state, m = glauber(state_random(L), n_step=10**4, T=t)\n",
    "    m_est = # TO DO\n",
    "    _, m_val = magnetization(L, T=t)\n",
    "    print(\"T = {}\".format(t))\n",
    "    print(\"\\tEstimation: {}\".format(m_est))\n",
    "    print(\"\\tTrue value: {}\".format(m_val))\n",
    "    print(\"\\tRelative error: {:.2f}%\".format(100 * (m_est - m_val) / m_val))"
   ]
  },
  {
   "cell_type": "markdown",
   "metadata": {},
   "source": [
    "<div class=\"alert alert-warning\"><strong>RESPUESTA III.3.</strong> ESCRIBA SU RESPUESTA AQUÍ</div>\n",
    "\n",
    "<p class=\"bg-primary\" style=\"padding:1em\"><strong>PREGUNTA III.4.</strong> Dibujar el error relativo con respecto a la temperatura. ¿Para qué valor de la temperatura la estimación es menos precisa?</p>"
   ]
  },
  {
   "cell_type": "code",
   "execution_count": null,
   "metadata": {},
   "outputs": [],
   "source": [
    "L = 3\n",
    "t = np.arange(.5, 6, .5)\n",
    "err_rel = np.zeros(len(t))\n",
    "for i in range(len(t)):\n",
    "    state, m = glauber(state_random(L), n_step=10**4, T=t)\n",
    "    m_est = # TO DO\n",
    "    _, m_val = magnetization(L, T=t[i])\n",
    "    err_rel[i] = (m_est - m_val) / m_val\n",
    "\n",
    "plt.plot(t, err_rel)\n",
    "plt.xlabel(\"T\")\n",
    "plt.ylabel(\"Relative error\")"
   ]
  },
  {
   "cell_type": "markdown",
   "metadata": {},
   "source": [
    "<div class=\"alert alert-warning\"><strong>RESPUESTA III.4.</strong> ESCRIBA SU RESPUESTA AQUÍ</div>\n",
    "\n",
    "<p class=\"bg-primary\" style=\"padding:1em\"><strong>PREGUNTA III.5.</strong> Generar algunos sorteos para la medida de Gibbs con $L = 100$ y $T \\in \\{0.1, 0.5, 1, 2, 3, 4, 5\\}$. Comentar las imágenes obtenidas con respecto a su respuesta I.1.</p>"
   ]
  },
  {
   "cell_type": "code",
   "execution_count": null,
   "metadata": {
    "scrolled": true
   },
   "outputs": [],
   "source": [
    "L = 100\n",
    "for t in [0.1, 0.5, 1, 2, 3, 4, 5]:\n",
    "    state, m = glauber(state_random(L), n_step=10*L**2, T=t)\n",
    "    plt.figure()\n",
    "    plt.imshow(state, cmap='binary')\n",
    "    plt.title(\"L = {} y T = {}\".format(L, t))"
   ]
  },
  {
   "cell_type": "markdown",
   "metadata": {},
   "source": [
    "<div class=\"alert alert-warning\"><strong>RESPUESTA III.5.</strong> ESCRIBA SU RESPUESTA AQUÍ</div>\n",
    "\n",
    "<p class=\"bg-primary\" style=\"padding:1em\"><strong>PREGUNTA III.6.</strong> Con el código siguiente, dibujar la magnetización con respecto al tiempo para $L=10$, $T \\in \\{0.1, 1, 2, 3, 4\\}$ y una configuración inicial determinista. Ejecute el código varias veces para temperaturas alrededor de 2, ¿qué observamos?</p>"
   ]
  },
  {
   "cell_type": "code",
   "execution_count": null,
   "metadata": {},
   "outputs": [],
   "source": [
    "L=10\n",
    "state, m = glauber(state_one(L), n_step=10**5, T=0.1)\n",
    "_ = plt.plot(m)"
   ]
  },
  {
   "cell_type": "markdown",
   "metadata": {},
   "source": [
    "<div class=\"alert alert-warning\"><strong>RESPUESTA III.6.</strong> ESCRIBA SU RESPUESTA AQUÍ</div>\n",
    "\n",
    "<p class=\"bg-primary\" style=\"padding:1em\"><strong>PREGUNTA III.7.</strong> Completar el código siguiente para visualizar la magnetización neta promedio con respecto a la temperatura. Justificar el método de estimación de la magnetización neta promedio. Comentar.</p>"
   ]
  },
  {
   "cell_type": "code",
   "execution_count": null,
   "metadata": {},
   "outputs": [],
   "source": [
    "L = 10\n",
    "t = np.arange(0.1, 5, 0.1)\n",
    "mn = np.zeros(len(t))\n",
    "for i in range(len(t)):\n",
    "    state, m = glauber(state_one(L), n_step=10**4, T=t[i])\n",
    "    mn[i]= # TO DO\n",
    "\n",
    "plt.plot(t, mn)\n",
    "_ = plt.title(\"Magnetización neta promedio con respecto a la temperatura para L = {}\".format(L))"
   ]
  },
  {
   "cell_type": "markdown",
   "metadata": {},
   "source": [
    "<div class=\"alert alert-warning\"><strong>RESPUESTA III.7.</strong> ESCRIBA SU RESPUESTA AQUÍ</div>\n",
    "\n",
    "<p class=\"bg-primary\" style=\"padding:1em\"><strong>PREGUNTA III.8.</strong> Explicar los valores de la magnetización neta promedio a bajas y altas temperaturas. Justificar el término \"transición de fase\". ¿Alrededor de qué temperatura tiene lugar esta transición?</p>\n",
    "\n",
    "<div class=\"alert alert-warning\"><strong>RESPUESTA III.8.</strong> ESCRIBA SU RESPUESTA AQUÍ</div>\n",
    "\n",
    "Una otra manera de caracterizar la temperatura de Curie se basa en la correlación entre espines distantes. Para esto, ya no consideramos el toro sino el grafo regular $\\{0, \\dots, L-1\\}^2$ al que imponemos los espines $+1$ sobre el borde. En este marco, nos interesamos al valor promedio del espín ubicado en el centro del grafo.\n",
    "\n",
    "<p class=\"bg-primary\" style=\"padding:1em\"><strong>PREGUNTA III.9.</strong> Completar el código siguiente y ejecutarlo par varios valores de la temperatura. Comentar los resultados. A su juicio, ¿qué pasa cuando $L \\to \\infty$?</p>"
   ]
  },
  {
   "cell_type": "code",
   "execution_count": null,
   "metadata": {},
   "outputs": [],
   "source": [
    "def force_border(state):\n",
    "    \"\"\"\n",
    "    Pone +1 en todos los espines del borde.\n",
    "    \"\"\"\n",
    "    L = state.shape[0]\n",
    "    state[0,:] = np.ones(L)\n",
    "    state[-1,:] = np.ones(L)\n",
    "    state[:,0] = np.ones(L)\n",
    "    state[:,-1] = np.ones(L)\n",
    "    return state\n",
    "\n",
    "def glauber_box(initial_state, n_step=1, T=1):\n",
    "    \"\"\"\n",
    "    Calcula n_step pasos de la cadena de Markov obtenida con la dinámica de Glauber\n",
    "    con todos los espines del borde a +1. Devuelve la configuración final state, la\n",
    "    sucesión m de la magnetización de las configuraciones visitadas y el valor spin\n",
    "    del espín central.\n",
    "    \"\"\"\n",
    "    L = initial_state.shape[0]\n",
    "    state = force_border(initial_state)\n",
    "    m = np.zeros(n_step)\n",
    "    spin = np.zeros(n_step)\n",
    "    for i in range(n_step):\n",
    "        # Ten cuidado, el valor de los espines del borde debe permanecer a +1.\n",
    "        state = # TO DO\n",
    "        m[i] = # TO DO\n",
    "        spin[i]=state[L // 2, L // 2]\n",
    "    return state, m, spin"
   ]
  },
  {
   "cell_type": "code",
   "execution_count": null,
   "metadata": {},
   "outputs": [],
   "source": [
    "L = np.arange(10, 50, 5)\n",
    "spin_mean = np.zeros(len(L))\n",
    "for i in range(len(L)):\n",
    "    state, m, spin = # TO DO\n",
    "    spin_mean[i] = # TO DO\n",
    "\n",
    "_ = plt.plot(L, spin_mean)"
   ]
  },
  {
   "cell_type": "markdown",
   "metadata": {},
   "source": [
    "<div class=\"alert alert-warning\"><strong>RESPUESTA III.9.</strong> ESCRIBA SU RESPUESTA AQUÍ</div>"
   ]
  }
 ],
 "metadata": {
  "kernelspec": {
   "display_name": "Python 3",
   "language": "python",
   "name": "python3"
  },
  "language_info": {
   "codemirror_mode": {
    "name": "ipython",
    "version": 3
   },
   "file_extension": ".py",
   "mimetype": "text/x-python",
   "name": "python",
   "nbconvert_exporter": "python",
   "pygments_lexer": "ipython3",
   "version": "3.5.3"
  }
 },
 "nbformat": 4,
 "nbformat_minor": 2
}
