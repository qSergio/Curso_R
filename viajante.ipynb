{
 "cells": [
  {
   "cell_type": "code",
   "execution_count": null,
   "metadata": {},
   "outputs": [],
   "source": [
    "import itertools\n",
    "import numpy as np\n",
    "import matplotlib.pyplot as plt"
   ]
  },
  {
   "cell_type": "code",
   "execution_count": null,
   "metadata": {},
   "outputs": [],
   "source": [
    "# Matplotlib default configuration\n",
    "plt.rc('figure', figsize=(16,8))\n",
    "plt.rc('font', size=12)\n",
    "plt.rc('lines', linewidth=2)"
   ]
  },
  {
   "cell_type": "markdown",
   "metadata": {},
   "source": [
    "<h1 class=\"text-center\">Trabajos prácticos : Problema del viajante</h1>\n",
    "\n",
    "<br/>\n",
    "\n",
    "<div class=\"jumbotron text-center\"><b>El propósito de este documento es utilizar algoritmos de recocido simulado para tratar de resolver el famoso problema de optimización combinatoria del viajante.</b></div>"
   ]
  },
  {
   "cell_type": "markdown",
   "metadata": {},
   "source": [
    "<h1>I. Introducción</h1>\n",
    "\n",
    "El **problema del viajante** tiene diferentes nombres (problema del vendedor viajero, ...) y se encuentra a menudo bajo sus siglas en inglés **TSP** para *Travelling Salesman Problem*. Este problema se describió inicialmente en 1832 y su formulación es simple : dada una lista de ciudades y las distancias entre cada par de ellas, ¿cuál es la ruta más corta posible que visita cada ciudad exactamente una vez y al finalizar regresa a la ciudad origen? Esta pregunta es un problema de **optimización combinatoria** y el problema del viajante tiene muchas aplicaciones en la práctica (ciencia de la computación,  planificación, logística, circuitos electrónicos, ...). Sin embargo, encontrar una solución no es fácil, incluso cuando el número de ciudades es limitado, y se sabe que este problema es NP-difícil.\n",
    "\n",
    "Consideramos $d > 1$ ciudades $c_1, \\dots, c_d$ y, para cualquier par $(i,j) \\in \\{1,\\dots,d\\}^2$, la distancia entre $c_i$ y $c_j$ se expresa $\\delta(i,j)$. Introducimos el conjunto $\\Sigma_d$ de las permutaciones cíclicas de $\\{1, \\dots, d\\}$ que conservan el primer elemento,\n",
    "\n",
    "\\begin{equation*}\n",
    "\\Sigma_d = \\left\\{ \\sigma = (\\sigma_1, \\dots, \\sigma_d)\\ \\text{permutación cíclica tal que}\\ \\sigma_1 = 1 \\right\\}.\n",
    "\\end{equation*}\n",
    "\n",
    "Así, el problema del viajante es lo mismo que buscar una permutación $\\sigma \\in \\Sigma_d$ que minimiza la función\n",
    "\n",
    "\\begin{equation*}\n",
    "L(\\sigma) = \\sum_{i=1}^d \\delta(\\sigma_i,\\sigma_{i+1}) \\quad \\text{donde} \\quad \\sigma_{d+1} = \\sigma_1.\n",
    "\\end{equation*}\n",
    "\n",
    "<p class=\"bg-primary\" style=\"padding:1em\"><strong>PREGUNTA I.1.</strong> ¿Cuál es el cardenal del conjunto $\\Sigma_d$? ¿Siempre existe al menos una permutación cíclica que minimice L?</p>\n",
    "\n",
    "<div class=\"alert alert-warning\"><strong>RESPUESTA I.1.</strong> ESCRIBA SU RESPUESTA AQUÍ</div>\n",
    "\n",
    "El código siguiente define la función `random_cities` para generar la posición de $d$ ciudades al azar en el plano, la función `L` que calcula la distancia de una ruta dada por una permutación cíclica y la función `plot_cities` para dibujar estas ciudades y una ruta opcional."
   ]
  },
  {
   "cell_type": "code",
   "execution_count": null,
   "metadata": {},
   "outputs": [],
   "source": [
    "def random_cities(d):\n",
    "    \"\"\"\n",
    "    Devuelve la posición de d ciudades aleatorias en el plano y\n",
    "    la matriz de las distancias entre ellas.\n",
    "    \"\"\"\n",
    "    position = np.random.uniform(size=(d, 2))\n",
    "    distance = np.zeros((d, d))\n",
    "    for i in range(d):\n",
    "        for j in range(i):\n",
    "            distance[i,j] = np.linalg.norm(position[i,:] - position[j,:])\n",
    "            distance[j,i] = distance[i,j]\n",
    "    return position, distance\n",
    "\n",
    "def L(delta, sigma):\n",
    "    \"\"\"\n",
    "    Calcula la longitud de la ruta dada por la permutación\n",
    "    cíclica sigma con la matriz de las distancias.\n",
    "    \"\"\"\n",
    "    l = 0.0\n",
    "    for i in range(delta.shape[0]):\n",
    "        l += delta[sigma[i-1], sigma[i]]\n",
    "    return l\n",
    "\n",
    "def plot_cities(position, sigma=None):\n",
    "    \"\"\"\n",
    "    Dibuja las ciudades dadas por sus posiciones en el plano y\n",
    "    y una ruta opcional dada por la permutación cíclica sigma.\n",
    "    \"\"\"\n",
    "    plt.figure()\n",
    "    ax = plt.subplot(111)\n",
    "    ax.axis('off')\n",
    "    ax.plot(position[:,0], position[:,1], 'ko')\n",
    "    if not (sigma is None):\n",
    "        path = np.append(sigma, 0)\n",
    "        ax.plot(position[path,0], position[path,1], 'r-')"
   ]
  },
  {
   "cell_type": "markdown",
   "metadata": {},
   "source": [
    "<p class=\"bg-primary\" style=\"padding:1em\"><strong>PREGUNTA I.2.</strong> El código siguiente ilustra como se utilizan las funciones anteriores para encontrar una ruta más corta entre $d$ ciudades por una búsqueda completa. Aumentar el número $d$. ¿Hasta qué valor se obtiene el resultado en un tiempo razonable?</p>"
   ]
  },
  {
   "cell_type": "code",
   "execution_count": null,
   "metadata": {},
   "outputs": [],
   "source": [
    "d = 4\n",
    "pos, delta = random_cities(d)\n",
    "\n",
    "sigma_min = range(d)\n",
    "l_min = L(delta, sigma_min)\n",
    "for sigma in itertools.permutations(range(1, d)):\n",
    "    sigma = (0,) + sigma\n",
    "    l = L(delta, sigma)\n",
    "    if l < l_min:\n",
    "        l_min = l\n",
    "        sigma_min = sigma\n",
    "\n",
    "plot_cities(pos, sigma_min)"
   ]
  },
  {
   "cell_type": "markdown",
   "metadata": {},
   "source": [
    "<div class=\"alert alert-warning\"><strong>RESPUESTA I.2.</strong> ESCRIBA SU RESPUESTA AQUÍ</div>"
   ]
  },
  {
   "cell_type": "markdown",
   "metadata": {},
   "source": [
    "<h1>II. Recocido simulado simple</h1>\n",
    "\n",
    "El objetivo de lo que sigue es usar el recocido simulado para minimizar la función $L$, especialmente cuando el número de ciudades $d$ es grande. Para esto, consideramos la **medida de Gibbs $\\pi^T$ de función de energía $L$ a la temperatura $T > 0$**,\n",
    "\n",
    "\\begin{equation*}\n",
    "\\forall \\sigma \\in \\Sigma_d,\\ \\pi^T(\\sigma) = \\frac{1}{Z_T} \\exp\\left( - L(\\sigma) / T \\right)\n",
    "\\end{equation*}\n",
    "\n",
    "donde $Z_T$ es la **función de partición** dada por\n",
    "\n",
    "\\begin{equation*}\n",
    "\\forall T > 0,\\ Z_T = \\sum_{\\sigma \\in \\Sigma_d} \\exp\\left( - L(\\sigma) / T \\right).\n",
    "\\end{equation*}\n",
    "\n",
    "<p class=\"bg-primary\" style=\"padding:1em\"><strong>PREGUNTA II.1.</strong> Recordar por qué se interesa particularmente a la medida $\\pi^T$ cuando la temperatura $T$ es baja.</p>\n",
    "\n",
    "<div class=\"alert alert-warning\"><strong>RESPUESTA II.1.</strong> ESCRIBA SU RESPUESTA AQUÍ</div>\n",
    "\n",
    "<p class=\"bg-primary\" style=\"padding:1em\"><strong>PREGUNTA II.2.</strong> Completar el código siguiente para calcular y dibujar los valores de $Z_T$ para varios valores de la temperatura $T$. Explicar el comportamiento de $Z_T$ a altas y bajas temperaturas. ¿Qué es el valor límite de $Z_T$ cuando $T$ va al infinito? ¿Hasta qué número de ciudades $d$ se obtiene el resultado en un tiempo razonable?</p>"
   ]
  },
  {
   "cell_type": "code",
   "execution_count": null,
   "metadata": {},
   "outputs": [],
   "source": [
    "d = 4\n",
    "t = np.arange(0.5, 3.0, 0.1)\n",
    "pos, delta = random_cities(d)\n",
    "\n",
    "z = np.zeros(len(t))\n",
    "# TO DO Calcular Z_T\n",
    "\n",
    "plt.title('Función de partición')\n",
    "plt.xlabel('Temperatura')\n",
    "_ = plt.plot(t, z)"
   ]
  },
  {
   "cell_type": "markdown",
   "metadata": {},
   "source": [
    "<div class=\"alert alert-warning\"><strong>RESPUESTA II.2.</strong> ESCRIBA SU RESPUESTA AQUÍ</div>\n",
    "\n",
    "<p class=\"bg-primary\" style=\"padding:1em\"><strong>PREGUNTA II.3.</strong> En el código anterior, ¿hasta qué número de ciudades $d$ se obtiene el resultado en un tiempo razonable? ¿Es posible generar realizaciones según la distribución $\\pi^T$ sin conocer $Z_T$? ¿Es factible usar el método de rechazo a bajas temperaturas? </p>\n",
    "\n",
    "<div class=\"alert alert-warning\"><strong>RESPUESTA II.3.</strong> ESCRIBA SU RESPUESTA AQUÍ</div>\n",
    "\n",
    "Así, el primer paso para el recocido simulado es calcular una iteración del algoritmo de Metrópolis-Hastings para la medida de probabilidad $\\pi^T$ con una temperatura $T > 0$ dada. Sea un kernel de transición $Q$ irreducible y simétrico sobre $\\Sigma_d$, para una ruta $\\sigma \\in \\Sigma_d$, una iteración corresponde a la etapas siguientes,\n",
    "\n",
    "1. Sortear una ruta $\\sigma'$ según $Q(\\sigma, \\cdot)$.\n",
    "2. Calcular la probabilidad de aceptación\n",
    "\\begin{equation*}\n",
    "\\alpha = \\min\\left\\{ 1, \\frac{\\pi^T(\\sigma')}{\\pi^T(\\sigma)} \\right\\}.\n",
    "\\end{equation*}\n",
    "3. Aceptar la nueva ruta $\\sigma'$ con probabilidad $\\alpha$ o permanecer con $\\sigma$.\n",
    "\n",
    "<p class=\"bg-primary\" style=\"padding:1em\"><strong>PREGUNTA II.4.</strong> ¿Qué vale $\\alpha$? ¿Es necesario conocer $Z_T$ para calcular una iteración? </p>\n",
    "\n",
    "<div class=\"alert alert-warning\"><strong>RESPUESTA II.4.</strong> ESCRIBA SU RESPUESTA AQUÍ</div>\n",
    "\n",
    "<p class=\"bg-primary\" style=\"padding:1em\"><strong>PREGUNTA II.5.</strong> Completar la función siguiente que permite aceptar o rechazar una ruta candidata. </p>"
   ]
  },
  {
   "cell_type": "code",
   "execution_count": null,
   "metadata": {},
   "outputs": [],
   "source": [
    "def mh_iterate(delta, sigma_cur, sigma_new, temp):\n",
    "    \"\"\"\n",
    "    Calcula el paso de aceptación para pasar de una ruta sigma_cur\n",
    "    a una ruta sigma_new en el algoritmo de Metrópolis-Hastings\n",
    "    para la medida de Gibbs de función de energía L calculada con\n",
    "    la matriz de las distancias delta a la temperatura temp.\n",
    "    \"\"\"\n",
    "    alpha = # TO DO\n",
    "    if np.random.uniform() <= alpha:\n",
    "        return sigma_new\n",
    "    else:\n",
    "        return sigma_cur"
   ]
  },
  {
   "cell_type": "markdown",
   "metadata": {},
   "source": [
    "Varias opciones son posibles para el kernel de transición $Q$. Un primer elegido simple se basa en la inversión de dos ciudades en una ruta. Para cualquier ruta $\\sigma \\in \\Sigma_d$, si $2 \\leqslant i < j \\leqslant d$, la ruta $\\sigma^{(i,j)} \\in \\Sigma_d$ se obtiene invirtiendo las visitas de las ciudades $\\sigma_i$ y $\\sigma_j$,\n",
    "\n",
    "\\begin{equation*}\n",
    "\\forall k \\in \\{1, \\dots, d\\},\\ \\sigma^{(i,j)}_k = \\begin{cases}\n",
    "\\sigma_j & \\text{si}\\ k=i,\\\\\n",
    "\\sigma_i & \\text{si}\\ k=j,\\\\\n",
    "\\sigma_k & \\text{si no}.\n",
    "\\end{cases}\n",
    "\\end{equation*}\n",
    "\n",
    "Por tanto, se tiene un kernel de transición $Q_1$ dado por la distribución uniforme en todas las inversiones de dos ciudades,\n",
    "\n",
    "\\begin{equation*}\n",
    "\\forall \\sigma \\in \\Sigma_d,\\ \\forall 2 \\leqslant i < j \\leqslant d,\\ Q_1(\\sigma, \\sigma^{(i,j)}) = \\frac{2}{(d-1)(d-2)}.\n",
    "\\end{equation*}\n",
    "\n",
    "<p class=\"bg-primary\" style=\"padding:1em\"><strong>PREGUNTA II.6.</strong> Probar que $Q_1$ es un kernel de transición irreducible y simétrico sobre $\\Sigma_d$. </p>\n",
    "\n",
    "<div class=\"alert alert-warning\"><strong>RESPUESTA II.6.</strong> ESCRIBA SU RESPUESTA AQUÍ</div>\n",
    "\n",
    "<p class=\"bg-primary\" style=\"padding:1em\"><strong>PREGUNTA II.7.</strong> El código siguiente implementa un algoritmo de recocido simple con el kernel de transición $Q_1$ y una temperatura $T$ fija. Por un valor razonable del número $d$ de ciudades, dibujar la evolución de la longitud de las rutas y la longitud mínima y comentar el resultado. </p>"
   ]
  },
  {
   "cell_type": "code",
   "execution_count": null,
   "metadata": {},
   "outputs": [],
   "source": [
    "def q1(sigma):\n",
    "    \"\"\"\n",
    "    Devuelve una ruta sorteada según el kernel de transición Q_1 y\n",
    "    la ruta inicial sigma.\n",
    "    \"\"\"\n",
    "    i, j = np.random.choice(sigma[1:], size=2, replace=False)\n",
    "    sigma_new = sigma.copy()\n",
    "    sigma_new[i], sigma_new[j] = sigma_new[j], sigma_new[i]\n",
    "    return sigma_new\n",
    "\n",
    "# Sorteo de las ciudades\n",
    "d = 8\n",
    "pos, delta = random_cities(d)\n",
    "\n",
    "# Longitud mínima\n",
    "l_min = np.inf\n",
    "for sigma in itertools.permutations(range(1, d)):\n",
    "    sigma = (0,) + sigma\n",
    "    l = L(delta, sigma)\n",
    "    if l < l_min:\n",
    "        l_min = l\n",
    "\n",
    "# Recodido simulado simple\n",
    "n = 10000              # Número de pasos\n",
    "temp = 0.1             # Temperatura\n",
    "sigma = list(range(d)) # Ruta inicial\n",
    "\n",
    "l_rss = np.zeros(n)\n",
    "for k in range(n):\n",
    "    l_rss[k] = L(delta, sigma)\n",
    "    sigma = mh_iterate(delta, sigma, q1(sigma), temp)\n",
    "\n",
    "# Gráfico\n",
    "plt.plot(l_rss)\n",
    "plt.plot((0, n), (l_min, l_min), 'r--')\n",
    "plt.xlabel('n')\n",
    "_ = plt.title('Longitud de la ruta')"
   ]
  },
  {
   "cell_type": "markdown",
   "metadata": {},
   "source": [
    "<div class=\"alert alert-warning\"><strong>RESPUESTA II.7.</strong> ESCRIBA SU RESPUESTA AQUÍ</div>\n",
    "\n",
    "<p class=\"bg-primary\" style=\"padding:1em\"><strong>PREGUNTA II.8.</strong> Disminuir la temperatura en el código anterior, ¿qué pasa? ¿Esto converge? Explique el resultado obtenido. </p>\n",
    "\n",
    "<div class=\"alert alert-warning\"><strong>RESPUESTA II.8.</strong> ESCRIBA SU RESPUESTA AQUÍ</div>"
   ]
  },
  {
   "cell_type": "markdown",
   "metadata": {},
   "source": [
    "<h1>III. Esquemas de temperatura</h1>\n",
    "\n",
    "Para asegurar la convergencia del recocido simulado, hemos visto en clase que la temperatura debe reducirse gradualmente. Para esto, consideramos sucesiones decrecientes de temperaturas $(T_n)_{n \\geqslant 1}$ que tienden a 0 cuando $n \\to \\infty$. Tales sucesiones se llaman **esquemas de temperaturas** y los resultados vistos en el curso dan la convergencia del recocido simulado para un esquema dado por\n",
    "\n",
    "\\begin{equation*}\n",
    "\\forall n \\geqslant 1,\\ T_n = \\frac{h}{\\ln (n+1)}\n",
    "\\end{equation*}\n",
    "\n",
    "donde $h > 0$ debe ser bastante grande.\n",
    "\n",
    "<p class=\"bg-primary\" style=\"padding:1em\"><strong>PREGUNTA III.1.</strong> Utilizar el código siguiente para experimentar el recocido simulado con el kernel de transición $Q_1$ y el esquema de temperatura arriba. Adaptar el código para dibujar la ruta de longitud mínima y la obtenida por el recocido simulado. Cambiar el valor de $h$ y comentar los resultados cuando $h$ es pequeño y cuando $h$ es grande. </p>"
   ]
  },
  {
   "cell_type": "code",
   "execution_count": null,
   "metadata": {},
   "outputs": [],
   "source": [
    "# Sorteo de las ciudades\n",
    "d = 8\n",
    "pos, delta = random_cities(d)\n",
    "\n",
    "# Longitud mínima\n",
    "l_min = np.inf\n",
    "for sigma in itertools.permutations(range(1, d)):\n",
    "    sigma = (0,) + sigma\n",
    "    l = L(delta, sigma)\n",
    "    if l < l_min:\n",
    "        l_min = l\n",
    "\n",
    "# Recodido simulado con esquema de temperatura\n",
    "n = 10000              # Número de pasos\n",
    "h = 1.0                # Constante del esquema\n",
    "sigma = list(range(d)) # Ruta inicial\n",
    "\n",
    "l_rse = np.zeros(n)\n",
    "for k in range(n):\n",
    "    l_rse[k] = L(delta, sigma)\n",
    "    temp = h / np.log(k + 2)\n",
    "    sigma = mh_iterate(delta, sigma, q1(sigma), temp)\n",
    "\n",
    "# Gráfico\n",
    "plt.plot(l_rse)\n",
    "plt.plot((0, n), (l_min, l_min), 'r--')\n",
    "plt.xlabel('n')\n",
    "_ = plt.title('Longitud de la ruta')\n",
    "\n",
    "# Rutas (TO DO)\n",
    "#plot_cities(pos, sigma_min)\n",
    "#plot_cities(pos, sigma_rse)"
   ]
  },
  {
   "cell_type": "markdown",
   "metadata": {},
   "source": [
    "<div class=\"alert alert-warning\"><strong>RESPUESTA III.1.</strong> ESCRIBA SU RESPUESTA AQUÍ</div>\n",
    "\n",
    "Para ser más precisos, los resultados del curso implican la convergencia del recocido simulado para el esquema de temperatura constante por partes dado por\n",
    "\n",
    "\\begin{equation*}\n",
    "\\forall n \\geqslant 1,\\ T_n = \\frac{b}{1 + \\text{suelo}\\left( \\dfrac{\\ln n}{a} \\right)}\n",
    "\\end{equation*}\n",
    "\n",
    "donde $a,b > 0$ y $\\text{suelo}(x)$ es el máximo número entero no superior a $x \\in \\mathbb{R}$.\n",
    "\n",
    "En lo que sigue, consideramos el problema del viajante con un número de ciudades demasiado grande para obtener un resultado explícitamente. Por lo tanto, el recocido simulado permite encontrar una solución aproximada a este problema.\n",
    "\n",
    "<p class=\"bg-primary\" style=\"padding:1em\"><strong>PREGUNTA III.2.</strong> Completar el código siguiente para utilizar el recocido simulado con el kernel de transición $Q_1$ y los esquemas de temperatura logarítmicos continuo y por partes. Cambiar los valores de $h$, $a$ y $b$ para visualizar los efectos de estos parámetros. Dibujar la longitud de la ruta para cada esquema. Comentar los resultados y reencontrar por la práctica el papel del producto $ab$. </p>"
   ]
  },
  {
   "cell_type": "code",
   "execution_count": null,
   "metadata": {},
   "outputs": [],
   "source": [
    "# Sorteo de las ciudades\n",
    "d = 42\n",
    "pos, delta = random_cities(d)\n",
    "\n",
    "# Recodidos simulados\n",
    "n = 10000           # Número de pasos\n",
    "h = 1.0             # Constante del esquema 1\n",
    "a, b = 1.0, 1.0     # Constantes del esquema 2\n",
    "s1 = list(range(d)) # Ruta inicial para el esquema 1\n",
    "s2 = list(range(d)) # Ruta inicial para el esquema 2\n",
    "\n",
    "l_rse1 = np.zeros(n)\n",
    "l_rse2 = np.zeros(n)\n",
    "for k in range(n):\n",
    "    l_rse1[k] = L(delta, s1)\n",
    "    t1 = h / np.log(k + 2)\n",
    "    s1 = mh_iterate(delta, s1, q1(s1), t1)\n",
    "    \n",
    "    l_rse2[k] = L(delta, s2)\n",
    "    t2 = 1.0 # TO DO Calcular la temperatura con a  y b\n",
    "    s2 = mh_iterate(delta, s2, q1(s2), t2)\n",
    "\n",
    "# Gráfico\n",
    "plt.plot(l_rse1, label=\"Esquema 1\")\n",
    "plt.plot(l_rse2, label=\"Esquema 2\")\n",
    "plt.xlabel('n')\n",
    "plt.title('Longitud de las rutas')\n",
    "_ = plt.legend()\n",
    "\n",
    "# Rutas\n",
    "plot_cities(pos, s1)\n",
    "_ = plt.title('Esquema 1')\n",
    "plot_cities(pos, s2)\n",
    "_ = plt.title('Esquema 2')"
   ]
  },
  {
   "cell_type": "markdown",
   "metadata": {},
   "source": [
    "<div class=\"alert alert-warning\"><strong>RESPUESTA III.2.</strong> ESCRIBA SU RESPUESTA AQUÍ</div>\n",
    "\n",
    "<p class=\"bg-primary\" style=\"padding:1em\"><strong>PREGUNTA III.3.</strong> Adaptar el código anterior para visualizar la evolución de las probabilidades de aceptación durante las iteraciones del recocido simulado. Explicar porque estas probabilidades tienden a cero. </p>\n",
    "\n",
    "<div class=\"alert alert-warning\"><strong>RESPUESTA III.3.</strong> ESCRIBA SU RESPUESTA AQUÍ</div>\n",
    "\n",
    "Los esquemas logarítmicos convergen a una temperatura cero pero de manera relativamente lenta. Esto puede causar algunos problemas en la práctica, como un tiempo de espera muy largo para obtener un resultado aproximado del problema. Una práctica común para sortear esta dificultad es utilizar esquemas de temperatura que decrecen más rápidamente tales que\n",
    "\n",
    "\\begin{equation*}\n",
    "\\forall n \\geqslant 1,\\ T_n = \\frac{\\beta}{n^{\\alpha}}\n",
    "\\end{equation*}\n",
    "\n",
    "donde $\\alpha, \\beta > 0$. No hay una justificación teórica para estos esquemas, pero la velocidad de convergencia polinómica hacia cero es una propiedad muy apreciada en la práctica. Como antes, es posible considerar un esquema similar pero constante por partes,\n",
    "\n",
    "\\begin{equation*}\n",
    "\\forall n \\geqslant 1,\\ T_n = \\frac{\\beta}{1 + \\text{suelo}\\left( \\dfrac{n^{\\alpha}}{\\gamma} \\right)}\n",
    "\\end{equation*}\n",
    "\n",
    "donde $\\alpha, \\beta, \\gamma > 0$.\n",
    "\n",
    "<p class=\"bg-primary\" style=\"padding:1em\"><strong>PREGUNTA III.4.</strong> ¿Qué es la ventaja de usar un esquema constante por partes? </p>\n",
    "\n",
    "<div class=\"alert alert-warning\"><strong>RESPUESTA III.4.</strong> ESCRIBA SU RESPUESTA AQUÍ</div>\n",
    "\n",
    "<p class=\"bg-primary\" style=\"padding:1em\"><strong>PREGUNTA III.5.</strong> Adaptar el código siguiente para experimentar el recocido simulado con el kernel de transición $Q_1$ y varios esquemas de temperatura polinómicos como arriba. Comentar los resultados y compararlos con los resultados obtenidos en el marco logarítmico. </p>"
   ]
  },
  {
   "cell_type": "code",
   "execution_count": null,
   "metadata": {},
   "outputs": [],
   "source": [
    "# Sorteo de las ciudades\n",
    "d = 42\n",
    "pos, delta = random_cities(d)\n",
    "\n",
    "# Recodido simulado\n",
    "n = 10000              # Número de pasos\n",
    "sigma = list(range(d)) # Ruta inicial\n",
    "# TO DO Definir constantes útiles\n",
    "\n",
    "l_rse = np.zeros(n)\n",
    "for k in range(n):\n",
    "    l_rse[k] = L(delta, sigma)\n",
    "    temp = # TO DO\n",
    "    sigma = mh_iterate(delta, sigma, q1(sigma), temp)\n",
    "\n",
    "# Gráfico\n",
    "plt.plot(l_rse)\n",
    "plt.xlabel('n')\n",
    "_ = plt.title('Longitud de las rutas')\n",
    "\n",
    "# Ruta final\n",
    "plot_cities(pos, sigma)"
   ]
  },
  {
   "cell_type": "markdown",
   "metadata": {},
   "source": [
    "<div class=\"alert alert-warning\"><strong>RESPUESTA III.5.</strong> ESCRIBA SU RESPUESTA AQUÍ</div>"
   ]
  },
  {
   "cell_type": "markdown",
   "metadata": {},
   "source": [
    "<h1>IV. Otra dinámica</h1>\n",
    "\n",
    "Las propiedades del resultado obtenido por el recocido simulado dependen en gran medida de los valores propios del kernel de Metrópolis-Hastings y, por lo tanto, del elegido del kernel de transición $Q$. En particular, este kernel define los vecinos que se puede alcanzarse en una iteración y esto corresponde a consideraciones topológicas en el espacio de estado. Para ilustrar esto, proponemos considerar una otra dinámica dada por la reversión de una parte de la ruta. Para cualquier ruta $\\sigma \\in \\Sigma_d$, si $2 \\leqslant i < j \\leqslant d$, la ruta $\\sigma^{[i,j]} \\in \\Sigma_d$ se obtiene volteando las visitas de las ciudades entre $\\sigma_i$ y $\\sigma_j$,\n",
    "\n",
    "\\begin{equation*}\n",
    "\\forall k \\in \\{1, \\dots, d\\},\\ \\sigma^{[i,j]}_k = \\begin{cases}\n",
    "\\sigma_{i+j-k} & \\text{si}\\ i \\leqslant k \\leqslant j,\\\\\n",
    "\\sigma_k & \\text{si no}.\n",
    "\\end{cases}\n",
    "\\end{equation*}\n",
    "\n",
    "Así, consideramos el kernel de transición $Q_2$ dado por la distribución uniforme en todas las reversiones posibles,\n",
    "\n",
    "\\begin{equation*}\n",
    "\\forall \\sigma \\in \\Sigma_d,\\ \\forall 2 \\leqslant i < j \\leqslant d,\\ Q_2(\\sigma, \\sigma^{[i,j]}) = \\frac{2}{(d-1)(d-2)}.\n",
    "\\end{equation*}\n",
    "\n",
    "<p class=\"bg-primary\" style=\"padding:1em\"><strong>PREGUNTA IV.1.</strong> Probar que $Q_2$ es un kernel de transición irreducible y simétrico sobre $\\Sigma_d$. </p>\n",
    "\n",
    "<div class=\"alert alert-warning\"><strong>RESPUESTA IV.1.</strong> ESCRIBA SU RESPUESTA AQUÍ</div>\n",
    "\n",
    "<p class=\"bg-primary\" style=\"padding:1em\"><strong>PREGUNTA IV.2.</strong> Adaptar los códigos anteriores para implementar el recocido simulado con el kernel de transición $Q_2$. Dibujar la longitud, la ruta obtenida, ... Utilizar varios esquemas de temperatura y comentar los resultados. En particular, comparar la velocidad del decrecimiento de la longitud de la ruta según si se usa el kernel $Q_1$ o $Q_2$. Explicar por qué la solución obtenida con $Q_2$ es a menudo mejor que la obtenida con $Q_1$. </p>"
   ]
  },
  {
   "cell_type": "code",
   "execution_count": null,
   "metadata": {},
   "outputs": [],
   "source": [
    "def q2(sigma):\n",
    "    \"\"\"\n",
    "    Devuelve una ruta sorteada según el kernel de transición Q_2 y\n",
    "    la ruta inicial sigma.\n",
    "    \"\"\"\n",
    "    i, j = np.random.choice(sigma[1:], size=2, replace=False)\n",
    "    if i > j:\n",
    "        i, j = j, i\n",
    "    sigma_new = sigma.copy()\n",
    "    for k in np.arange(i, (i + j) / 2, dtype=int):\n",
    "        sigma_new[k], sigma_new[i+j-k] = sigma_new[i+j-k], sigma_new[k]\n",
    "    return sigma_new\n",
    "\n",
    "# Sorteo de las ciudades\n",
    "d = 42\n",
    "pos, delta = random_cities(d)\n",
    "\n",
    "# Recodido simulado\n",
    "n = 10000              # Número de pasos\n",
    "sigma = list(range(d)) # Ruta inicial\n",
    "\n",
    "# TO DO Calcular el recocido simulado con el kernel de transición Q_2 y varios esquemas de temperatura"
   ]
  },
  {
   "cell_type": "markdown",
   "metadata": {},
   "source": [
    "<div class=\"alert alert-warning\"><strong>RESPUESTA IV.2.</strong> ESCRIBA SU RESPUESTA AQUÍ</div>\n",
    "\n",
    "<p class=\"bg-primary\" style=\"padding:1em\"><strong>PREGUNTA IV.3.</strong> Proponer otras dinámicas y experimentarlas. </p>"
   ]
  },
  {
   "cell_type": "code",
   "execution_count": null,
   "metadata": {},
   "outputs": [],
   "source": [
    "# ESCRIBA SU CÓDIGO AQUÍ"
   ]
  },
  {
   "cell_type": "markdown",
   "metadata": {},
   "source": [
    "<div class=\"alert alert-warning\"><strong>RESPUESTA IV.3.</strong> ESCRIBA SU RESPUESTA AQUÍ</div>"
   ]
  }
 ],
 "metadata": {
  "kernelspec": {
   "display_name": "Python 3",
   "language": "python",
   "name": "python3"
  },
  "language_info": {
   "codemirror_mode": {
    "name": "ipython",
    "version": 3
   },
   "file_extension": ".py",
   "mimetype": "text/x-python",
   "name": "python",
   "nbconvert_exporter": "python",
   "pygments_lexer": "ipython3",
   "version": "3.5.3"
  }
 },
 "nbformat": 4,
 "nbformat_minor": 2
}
